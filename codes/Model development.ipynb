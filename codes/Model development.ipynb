{
 "cells": [
  {
   "cell_type": "code",
   "execution_count": 6,
   "metadata": {},
   "outputs": [],
   "source": [
    "# import os\n",
    "# os.environ[\"CUDA_VISIBLE_DEVICES\"]=\"-1\"    \n",
    "# import tensorflow as tf"
   ]
  },
  {
   "cell_type": "code",
   "execution_count": 6,
   "metadata": {},
   "outputs": [],
   "source": [
    "\n",
    "import keras\n",
    "import tensorflow as tf\n",
    "from keras.models import Sequential\n",
    "from keras.layers import Dense\n",
    "from keras.utils import np_utils\n",
    "\n",
    "#from keras.datasets import mnist\n",
    "from keras.layers import Dropout, Flatten, Activation, Conv2D\n",
    "from keras.layers.convolutional import Convolution2D, MaxPooling2D, ZeroPadding2D\n",
    "from keras.preprocessing.image import ImageDataGenerator\n",
    "\n",
    "#from sklearn import datasets\n",
    "from sklearn.model_selection import train_test_split"
   ]
  },
  {
   "cell_type": "code",
   "execution_count": 3,
   "metadata": {},
   "outputs": [],
   "source": [
    "import pandas as pd\n",
    "import numpy as np\n",
    "import numpy.random as npr\n",
    "import matplotlib.pyplot as plt\n",
    "from scipy.ndimage.filters import convolve\n",
    "%matplotlib inline\n"
   ]
  },
  {
   "cell_type": "code",
   "execution_count": 43,
   "metadata": {},
   "outputs": [
    {
     "name": "stderr",
     "output_type": "stream",
     "text": [
      "C:\\Users\\saura\\Anaconda3\\lib\\site-packages\\ipykernel_launcher.py:10: UserWarning: Update your `Conv2D` call to the Keras 2 API: `Conv2D(64, (3, 3), activation=\"relu\")`\n",
      "  # Remove the CWD from sys.path while we load stuff.\n",
      "C:\\Users\\saura\\Anaconda3\\lib\\site-packages\\ipykernel_launcher.py:28: UserWarning: Update your `Conv2D` call to the Keras 2 API: `Conv2D(512, (3, 3), activation=\"relu\")`\n",
      "C:\\Users\\saura\\Anaconda3\\lib\\site-packages\\ipykernel_launcher.py:30: UserWarning: Update your `Conv2D` call to the Keras 2 API: `Conv2D(512, (3, 3), activation=\"relu\")`\n",
      "C:\\Users\\saura\\Anaconda3\\lib\\site-packages\\ipykernel_launcher.py:32: UserWarning: Update your `Conv2D` call to the Keras 2 API: `Conv2D(512, (3, 3), activation=\"relu\")`\n"
     ]
    }
   ],
   "source": [
    "# Convolution and Pooling layer for feature extraction\n",
    "\n",
    "multi_classifier = Sequential()\n",
    "# multi_classifier.add(Conv2D(32, (3,3), input_shape = (32, 32, 1), activation = 'relu'))\n",
    "# multi_classifier.add(Conv2D(32, (3,3), activation = 'relu'))\n",
    "# multi_classifier.add(MaxPooling2D(pool_size = (2, 2)))\n",
    "multi_classifier.add(ZeroPadding2D((1,1),input_shape=(32, 32, 1)))\n",
    "multi_classifier.add(Convolution2D(64, (3,3), activation='relu'))\n",
    "multi_classifier.add(ZeroPadding2D((1,1)))\n",
    "multi_classifier.add(Convolution2D(64, 3, 3, activation='relu'))\n",
    "multi_classifier.add(MaxPooling2D((2,2), strides=(2,2)))\n",
    "\n",
    "multi_classifier.add(ZeroPadding2D((1,1)))\n",
    "multi_classifier.add(Convolution2D(128, (3,3), activation='relu'))\n",
    "multi_classifier.add(ZeroPadding2D((1,1)))\n",
    "multi_classifier.add(Convolution2D(128, (3,3), activation='relu'))\n",
    "multi_classifier.add(MaxPooling2D((2,2), strides=(2,2)))\n",
    "\n",
    "multi_classifier.add(ZeroPadding2D((1,1)))\n",
    "multi_classifier.add(Convolution2D(256, (3,3), activation='relu'))\n",
    "multi_classifier.add(ZeroPadding2D((1,1)))\n",
    "multi_classifier.add(Convolution2D(256, (3,3), activation='relu'))\n",
    "multi_classifier.add(ZeroPadding2D((1,1)))\n",
    "multi_classifier.add(Convolution2D(256, (3,3), activation='relu'))\n",
    "multi_classifier.add(MaxPooling2D((2,2), strides=(2,2)))\n",
    "\n",
    "multi_classifier.add(ZeroPadding2D((1,1)))\n",
    "multi_classifier.add(Convolution2D(512, 3, 3, activation='relu'))\n",
    "multi_classifier.add(ZeroPadding2D((1,1)))\n",
    "multi_classifier.add(Convolution2D(512, 3, 3, activation='relu'))\n",
    "multi_classifier.add(ZeroPadding2D((1,1)))\n",
    "multi_classifier.add(Convolution2D(512, 3, 3, activation='relu'))\n",
    "multi_classifier.add(MaxPooling2D((2,2), strides=(2,2)))\n",
    "\n",
    "# multi_classifier.add(Conv2D(512, (5, 5), activation = 'relu'))\n",
    "# multi_classifier.add(MaxPooling2D(pool_size = (2, 2), strides = (2, 2)))\n",
    "\n",
    "# flattening for input to hidden layers\n",
    "\n",
    "multi_classifier.add(Flatten())\n",
    "\n",
    "# building hidden and output layers\n",
    "\n",
    "# multi_classifier.add(Dense(512, activation='relu'))\n",
    "# #model.add(Dropout(0.1))\n",
    "multi_classifier.add(Dense(256, activation='relu'))\n",
    "multi_classifier.add(Dense(128, activation='relu'))\n",
    "# #model.add(BatchNormalization())\n",
    "multi_classifier.add(Dense(64, activation='relu'))\n",
    "# multi_classifier.add(Dense(32, activation='relu'))\n",
    "multi_classifier.add(Dense(6, activation='softmax'))\n",
    "\n"
   ]
  },
  {
   "cell_type": "code",
   "execution_count": 4,
   "metadata": {},
   "outputs": [
    {
     "name": "stderr",
     "output_type": "stream",
     "text": [
      "C:\\Users\\saura\\Anaconda3\\lib\\site-packages\\keras_preprocessing\\image\\utils.py:173: UserWarning: Using \".tiff\" files with multiple bands will cause distortion. Please verify your output.\n",
      "  warnings.warn('Using \".tiff\" files with multiple bands '\n"
     ]
    },
    {
     "name": "stdout",
     "output_type": "stream",
     "text": [
      "Found 3122 images belonging to 6 classes.\n",
      "Found 614 images belonging to 6 classes.\n",
      "Found 615 images belonging to 6 classes.\n"
     ]
    }
   ],
   "source": [
    "# training and tesing\n",
    "\n",
    "train_datagen = ImageDataGenerator(rescale=1./255)\n",
    "\n",
    "validation_datagen = ImageDataGenerator(rescale=1./255)\n",
    "\n",
    "test_datagen = ImageDataGenerator(rescale=1./255)\n",
    "\n",
    "\n",
    "train_generator = train_datagen.flow_from_directory(\n",
    "        '../data/train',# this is the target directory\n",
    "        color_mode = \"grayscale\",\n",
    "        target_size=(32, 32), # all images will be sized to 400x400\n",
    "        batch_size = 32,\n",
    "        class_mode='categorical')\n",
    "\n",
    "validation_generator = validation_datagen.flow_from_directory(\n",
    "        '../data/validation',# this is the target directory\n",
    "        color_mode = \"grayscale\",\n",
    "        target_size=(32, 32),  # all images will be sized to 400x400\n",
    "        batch_size = 32,\n",
    "        class_mode='categorical')\n",
    "\n",
    "test_generator = test_datagen.flow_from_directory(\n",
    "        '../data/test',# this is the target directory\n",
    "        color_mode = \"grayscale\",\n",
    "        target_size=(32, 32),  # all images will be sized to 400x400\n",
    "        batch_size = 32,\n",
    "        class_mode='categorical')"
   ]
  },
  {
   "cell_type": "code",
   "execution_count": 44,
   "metadata": {},
   "outputs": [
    {
     "name": "stdout",
     "output_type": "stream",
     "text": [
      "Epoch 1/8\n",
      "291/291 [==============================] - 93s 320ms/step - loss: 1.7786 - accuracy: 0.1863 - val_loss: 1.7188 - val_accuracy: 0.1786\n",
      "Epoch 2/8\n",
      "291/291 [==============================] - 90s 310ms/step - loss: 1.7519 - accuracy: 0.1958 - val_loss: 1.7128 - val_accuracy: 0.1964\n",
      "Epoch 3/8\n",
      "291/291 [==============================] - 91s 311ms/step - loss: 1.7507 - accuracy: 0.1983 - val_loss: 1.7426 - val_accuracy: 0.1429\n",
      "Epoch 4/8\n",
      "291/291 [==============================] - 91s 312ms/step - loss: 1.7492 - accuracy: 0.1971 - val_loss: 1.8095 - val_accuracy: 0.1786\n",
      "Epoch 5/8\n",
      "291/291 [==============================] - 90s 311ms/step - loss: 1.7523 - accuracy: 0.2045 - val_loss: 1.7922 - val_accuracy: 0.1786\n",
      "Epoch 6/8\n",
      "291/291 [==============================] - 90s 310ms/step - loss: 1.7606 - accuracy: 0.1947 - val_loss: 1.7024 - val_accuracy: 0.1071\n",
      "Epoch 7/8\n",
      "291/291 [==============================] - 91s 312ms/step - loss: 1.7369 - accuracy: 0.2172 - val_loss: 1.7131 - val_accuracy: 0.2143\n",
      "Epoch 8/8\n",
      "291/291 [==============================] - 91s 311ms/step - loss: 1.7056 - accuracy: 0.2447 - val_loss: 1.7775 - val_accuracy: 0.1786\n",
      "2/2 [==============================] - 0s 85ms/step\n",
      "Test loss: 1.689964771270752\n",
      "Test accuracy: 0.1607142835855484\n"
     ]
    }
   ],
   "source": [
    "\n",
    "#run_opts = tf.RunOptions(report_tensor_allocations_upon_oom = False)\n",
    "# compiling\n",
    "multi_classifier.compile(optimizer = 'adam', loss = 'categorical_crossentropy', metrics = ['accuracy'])\n",
    "\n",
    "#fitting the model \n",
    "\n",
    "multi_classifier.fit_generator(train_generator,\n",
    "steps_per_epoch = 291,\n",
    "epochs = 8,\n",
    "validation_data = validation_generator,\n",
    "validation_steps = 56)\n",
    "    \n",
    "scores = multi_classifier.evaluate(test_generator, verbose=1)\n",
    "print('Test loss:', scores[0])\n",
    "print('Test accuracy:', scores[1])"
   ]
  },
  {
   "cell_type": "code",
   "execution_count": 28,
   "metadata": {},
   "outputs": [
    {
     "data": {
      "text/plain": [
       "True"
      ]
     },
     "execution_count": 28,
     "metadata": {},
     "output_type": "execute_result"
    }
   ],
   "source": [
    "tf.test.is_gpu_available(\n",
    "    cuda_only=False,\n",
    "    min_cuda_compute_capability=None\n",
    ")"
   ]
  },
  {
   "cell_type": "code",
   "execution_count": 7,
   "metadata": {},
   "outputs": [
    {
     "name": "stdout",
     "output_type": "stream",
     "text": [
      "Num GPUs Available:  1\n"
     ]
    }
   ],
   "source": [
    "print(\"Num GPUs Available: \", len(tf.config.experimental.list_physical_devices('GPU')))"
   ]
  },
  {
   "cell_type": "code",
   "execution_count": 8,
   "metadata": {},
   "outputs": [
    {
     "data": {
      "text/plain": [
       "'/device:GPU:0'"
      ]
     },
     "execution_count": 8,
     "metadata": {},
     "output_type": "execute_result"
    }
   ],
   "source": [
    "tf.test.gpu_device_name()"
   ]
  },
  {
   "cell_type": "code",
   "execution_count": 4,
   "metadata": {},
   "outputs": [
    {
     "name": "stdout",
     "output_type": "stream",
     "text": [
      "[name: \"/device:CPU:0\"\n",
      "device_type: \"CPU\"\n",
      "memory_limit: 268435456\n",
      "locality {\n",
      "}\n",
      "incarnation: 10827662690231857454\n",
      ", name: \"/device:GPU:0\"\n",
      "device_type: \"GPU\"\n",
      "memory_limit: 1459018137\n",
      "locality {\n",
      "  bus_id: 1\n",
      "  links {\n",
      "  }\n",
      "}\n",
      "incarnation: 1337312371042661022\n",
      "physical_device_desc: \"device: 0, name: GeForce 940M, pci bus id: 0000:0a:00.0, compute capability: 5.0\"\n",
      "]\n"
     ]
    }
   ],
   "source": [
    "from tensorflow.python.client import device_lib\n",
    "print(device_lib.list_local_devices())"
   ]
  },
  {
   "cell_type": "markdown",
   "metadata": {},
   "source": [
    "## Building final model"
   ]
  },
  {
   "cell_type": "code",
   "execution_count": 7,
   "metadata": {
    "scrolled": true
   },
   "outputs": [
    {
     "name": "stdout",
     "output_type": "stream",
     "text": [
      "WARNING:tensorflow:From C:\\Users\\saura\\Anaconda3\\lib\\site-packages\\keras\\backend\\tensorflow_backend.py:4070: The name tf.nn.max_pool is deprecated. Please use tf.nn.max_pool2d instead.\n",
      "\n",
      "WARNING:tensorflow:From C:\\Users\\saura\\Anaconda3\\lib\\site-packages\\keras\\backend\\tensorflow_backend.py:422: The name tf.global_variables is deprecated. Please use tf.compat.v1.global_variables instead.\n",
      "\n",
      "Epoch 1/1\n",
      "3122/3122 [==============================] - 1137s 364ms/step - loss: 0.5102 - accuracy: 0.7898 - val_loss: 4.5542 - val_accuracy: 0.5615\n",
      "20/20 [==============================] - 30s 1s/step\n",
      "Test loss: 4.663981914520264\n",
      "Test accuracy: 0.48455286026000977\n"
     ]
    }
   ],
   "source": [
    "multi_classifier = Sequential()\n",
    "multi_classifier.add(Conv2D(32, (3,3), input_shape = (32, 32, 1), activation = 'relu'))\n",
    "multi_classifier.add(MaxPooling2D(pool_size = (2, 2), strides = (2, 2)))\n",
    "multi_classifier.add(Conv2D(64, (3,3), activation = 'relu'))\n",
    "multi_classifier.add(MaxPooling2D(pool_size = (2, 2), strides = (2, 2)))\n",
    "multi_classifier.add(Conv2D(128, (3,3), activation = 'relu'))\n",
    "multi_classifier.add(MaxPooling2D(pool_size = (2, 2), strides = (2, 2)))\n",
    "\n",
    "\n",
    "multi_classifier.add(Flatten())\n",
    "\n",
    "multi_classifier.add(Dense(128, activation='relu'))\n",
    "multi_classifier.add(Dense(64, activation='relu'))\n",
    "multi_classifier.add(Dense(32, activation='relu'))\n",
    "multi_classifier.add(Dense(6, activation='softmax'))\n",
    "\n",
    "multi_classifier.compile(optimizer = 'adam', loss = 'categorical_crossentropy', metrics = ['accuracy'])\n",
    "\n",
    "multi_classifier.fit_generator(train_generator,\n",
    "steps_per_epoch = 3122,\n",
    "epochs = 1,\n",
    "validation_data = validation_generator,\n",
    "validation_steps = 614)\n",
    "\n",
    "scores = multi_classifier.evaluate(test_generator, verbose=1)\n",
    "print('Test loss:', scores[0])\n",
    "print('Test accuracy:', scores[1])"
   ]
  },
  {
   "cell_type": "code",
   "execution_count": null,
   "metadata": {},
   "outputs": [],
   "source": [
    "import os\n",
    "save_dir = os.path.join(os.getcwd(), 'saved_models')\n",
    "\n",
    "path = os.path.join(save_dir, model_name)\n",
    "model_name = \"CNN_all_emotions_train_model.h5\"\n",
    "multi_classifier.save(path)\n",
    "print('Saved trained model at %s ' % path)\n"
   ]
  },
  {
   "cell_type": "code",
   "execution_count": null,
   "metadata": {},
   "outputs": [],
   "source": []
  }
 ],
 "metadata": {
  "kernelspec": {
   "display_name": "Python 3",
   "language": "python",
   "name": "python3"
  },
  "language_info": {
   "codemirror_mode": {
    "name": "ipython",
    "version": 3
   },
   "file_extension": ".py",
   "mimetype": "text/x-python",
   "name": "python",
   "nbconvert_exporter": "python",
   "pygments_lexer": "ipython3",
   "version": "3.7.3"
  }
 },
 "nbformat": 4,
 "nbformat_minor": 2
}
